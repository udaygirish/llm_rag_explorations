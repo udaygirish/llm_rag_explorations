{
 "cells": [
  {
   "cell_type": "code",
   "execution_count": 6,
   "metadata": {},
   "outputs": [],
   "source": [
    "import sys \n",
    "import base64 \n",
    "import os \n",
    "import uuid \n",
    "import re\n",
    "\n",
    "from typing import List, Tuple\n",
    "\n",
    "from IPython.display import display, Image, Markdown\n",
    "\n",
    "from langchain.prompts import PromptTemplate\n",
    "from langchain.retrievers.multi_vector import MultiVectorRetriever\n",
    "from langchain.storage import InMemoryStore\n",
    "\n",
    "from langchain_community.vectorstores import Chroma\n",
    "\n",
    "from langchain_core.documents import Document\n",
    "from langchain_core.runnables import RunnableLambda, RunnablePassthrough\n",
    "\n",
    "from langchain_core.messages import AIMessage, HumanMessage\n",
    "from langchain_core.output_parsers import StrOutputParser\n",
    "\n",
    "from langchain_text_splitters import CharacterTextSplitter\n",
    "\n",
    "from langchain_google_vertexai import (\n",
    "    VertexAI,\n",
    "    ChatVertexAI,\n",
    "    VertexAIEmbeddings,\n",
    "    VectorSearchVectorStore,\n",
    ")\n",
    "\n",
    "from unstructured.partition.pdf import partition_pdf\n",
    "import pprint "
   ]
  },
  {
   "cell_type": "code",
   "execution_count": 7,
   "metadata": {},
   "outputs": [],
   "source": [
    "PROJECT_ID = \"evolution-u\"  # @param {type:\"string\"}\n",
    "LOCATION = \"us-central1\"  # @param {type:\"string\"}\n",
    "\n",
    "# For Vector Search Staging\n",
    "GCS_BUCKET = \"udays_experiments_evolu_ai\"  # @param {type:\"string\"}\n",
    "GCS_BUCKET_URI = f\"gs://{GCS_BUCKET}\""
   ]
  },
  {
   "cell_type": "code",
   "execution_count": 30,
   "metadata": {},
   "outputs": [],
   "source": [
    "GCS_BUCKET_SINGLE = \"udays_experiments_evolu_ai_central\" \n",
    "GCS_BUCKET_SINGLE_URI = f\"gs://{GCS_BUCKET_SINGLE}\""
   ]
  },
  {
   "cell_type": "code",
   "execution_count": 8,
   "metadata": {},
   "outputs": [],
   "source": [
    "# Initialize the vertex Ai SDK\n",
    "from google.cloud import aiplatform\n",
    "\n",
    "aiplatform.init(project=PROJECT_ID, location=LOCATION, staging_bucket=GCS_BUCKET_URI)\n"
   ]
  },
  {
   "cell_type": "code",
   "execution_count": 9,
   "metadata": {},
   "outputs": [
    {
     "name": "stdout",
     "output_type": "stream",
     "text": [
      "Building synchronization state...\n",
      "Starting synchronization...\n",
      "Download completed\n"
     ]
    }
   ],
   "source": [
    "# Copy the test data used for this learning \n",
    "# Download documents and images used in this notebook\n",
    "!gsutil -m rsync -r gs://github-repo/rag/intro_multimodal_rag/ .\n",
    "print(\"Download completed\")"
   ]
  },
  {
   "cell_type": "code",
   "execution_count": 10,
   "metadata": {},
   "outputs": [
    {
     "name": "stdout",
     "output_type": "stream",
     "text": [
      "gs://github-repo/rag/intro_multimodal_rag/data/\n",
      "gs://github-repo/rag/intro_multimodal_rag/data/Google Cloud TPU blog.pdf\n",
      "gs://github-repo/rag/intro_multimodal_rag/data/gemini_v1_5_report_technical.pdf\n",
      "gs://github-repo/rag/intro_multimodal_rag/data/gemma_technical_paper.pdf\n",
      "gs://github-repo/rag/intro_multimodal_rag/data/med_gemini.pdf\n"
     ]
    }
   ],
   "source": [
    "!gsutil ls gs://github-repo/rag/intro_multimodal_rag/data"
   ]
  },
  {
   "cell_type": "code",
   "execution_count": 11,
   "metadata": {},
   "outputs": [],
   "source": [
    "# Partition PDF, Tables , text and images \n",
    "# The documents used are Google10k - Provides overview of company's financial performance  - Alphabet \n",
    "# Currently used = Google10k.pdf  but only 14 pages -  Truncated"
   ]
  },
  {
   "cell_type": "code",
   "execution_count": 12,
   "metadata": {},
   "outputs": [],
   "source": [
    "pdf_folder_path = \"data/\"\n",
    "pdf_file_name = \"google-10k-sample-14pages.pdf\""
   ]
  },
  {
   "cell_type": "code",
   "execution_count": 13,
   "metadata": {},
   "outputs": [
    {
     "name": "stderr",
     "output_type": "stream",
     "text": [
      "2024-07-21 21:51:48.691492: I tensorflow/core/util/port.cc:113] oneDNN custom operations are on. You may see slightly different numerical results due to floating-point round-off errors from different computation orders. To turn them off, set the environment variable `TF_ENABLE_ONEDNN_OPTS=0`.\n",
      "2024-07-21 21:51:49.641537: I tensorflow/core/platform/cpu_feature_guard.cc:210] This TensorFlow binary is optimized to use available CPU instructions in performance-critical operations.\n",
      "To enable the following instructions: AVX2 AVX512F AVX512_VNNI FMA, in other operations, rebuild TensorFlow with the appropriate compiler flags.\n",
      "2024-07-21 21:51:51.578522: W tensorflow/compiler/tf2tensorrt/utils/py_utils.cc:38] TF-TRT Warning: Could not find TensorRT\n",
      "Some weights of the model checkpoint at microsoft/table-transformer-structure-recognition were not used when initializing TableTransformerForObjectDetection: ['model.backbone.conv_encoder.model.layer2.0.downsample.1.num_batches_tracked', 'model.backbone.conv_encoder.model.layer3.0.downsample.1.num_batches_tracked', 'model.backbone.conv_encoder.model.layer4.0.downsample.1.num_batches_tracked']\n",
      "- This IS expected if you are initializing TableTransformerForObjectDetection from the checkpoint of a model trained on another task or with another architecture (e.g. initializing a BertForSequenceClassification model from a BertForPreTraining model).\n",
      "- This IS NOT expected if you are initializing TableTransformerForObjectDetection from the checkpoint of a model that you expect to be exactly identical (initializing a BertForSequenceClassification model from a BertForSequenceClassification model).\n"
     ]
    },
    {
     "name": "stdout",
     "output_type": "stream",
     "text": [
      "Length of tables:  2\n",
      "Length of texts:  8\n"
     ]
    }
   ],
   "source": [
    "# Extract tables, images and chunkk text from the PDF \n",
    "raw_pdf_elements = partition_pdf(\n",
    "    filename=pdf_folder_path + pdf_file_name,\n",
    "    extract_images_in_pdf=False,\n",
    "    infer_table_structure=True,\n",
    "    chunking_strategy='by_title',\n",
    "    max_characters = 4000,\n",
    "    new_after_n_chars = 3800,\n",
    "    combine_text_under_n_chars = 2000,\n",
    "    image_output_dir_path = pdf_folder_path,\n",
    ")\n",
    "\n",
    "# Categorize extracted elements from PDF --> Tables and texts\n",
    "tables = []\n",
    "texts = []\n",
    "for element in raw_pdf_elements:\n",
    "    if \"unstructured.documents.elements.Table\" in str(type(element)):\n",
    "        tables.append(str(element))\n",
    "    elif \"unstructured.documents.elements.CompositeElement\" in str(type(element)):\n",
    "        texts.append(str(element))\n",
    "\n",
    "# Print tables and texts\n",
    "print(\"Length of tables: \", len(tables))    \n",
    "print(\"Length of texts: \", len(texts))\n",
    "\n",
    "# Optional : Enforce a specific token size for texts      # Tiktoken encoder  and hugging face token encoder\n",
    "text_splitter = CharacterTextSplitter.from_tiktoken_encoder(chunk_size=10000, chunk_overlap=0)  \n",
    "\n",
    "joined_texts = \" \".join(texts)\n",
    "texts_4k_token = text_splitter.split_text(joined_texts)"
   ]
  },
  {
   "cell_type": "code",
   "execution_count": 14,
   "metadata": {},
   "outputs": [
    {
     "name": "stdout",
     "output_type": "stream",
     "text": [
      "Length of texts after enforcing token size:  22053\n"
     ]
    }
   ],
   "source": [
    "print(\"Length of texts after enforcing token size: \", len(texts_4k_token[0]))"
   ]
  },
  {
   "cell_type": "code",
   "execution_count": 15,
   "metadata": {},
   "outputs": [],
   "source": [
    "MODEL_NAME = \"gemini-pro-vision\" #\"gemini-1.0-pro-vision\""
   ]
  },
  {
   "cell_type": "code",
   "execution_count": 16,
   "metadata": {},
   "outputs": [],
   "source": [
    "# Generate summaries of text elements\n",
    "def generate_text_summaries(\n",
    "    texts:List[str], tables: List[str], summarize_texts: bool= False\n",
    ") -> Tuple[List, List]:\n",
    "    \"\"\"Summarize the text elements\n",
    "\n",
    "    Args:\n",
    "        texts (List[str]): _description_\n",
    "        tables (List[str]): _description_\n",
    "        summarize_texts (bool, optional): _description_. Defaults to False.\n",
    "\n",
    "    Returns:\n",
    "        Tuple[List, List]: _description_\n",
    "    \"\"\"\n",
    "    \n",
    "    # Prompt Text \n",
    "    prompt_text = \"\"\"You are an assistant tasked with summarizing tables and text for retrieval. \\\n",
    "    These summaries will be embedded and used to retrieve the raw text or table elements. \\\n",
    "    Give a concise summary of the table or text that is well optimized for retrieval. Table or text: {element} \"\"\"\n",
    "    \n",
    "    prompt = PromptTemplate.from_template(prompt_text)\n",
    "    empty_response = RunnableLambda( lambda x: AIMessage(content=\"Error Processing Document\"))\n",
    "    \n",
    "    # Text summary chain \n",
    "    model = VertexAI(temperature=0, model_name=MODEL_NAME, max_output_tokens=1024\n",
    "    ).with_fallbacks([empty_response])\n",
    "    \n",
    "    summarize_chain = {\"element\": lambda x: x} | prompt | model | StrOutputParser()\n",
    "    \n",
    "    # Initialize Empty summary \n",
    "    text_summaries = []\n",
    "    table_summaries = []\n",
    "    \n",
    "    # Apply to text if texts are provided and summarization is requested\n",
    "    if texts:\n",
    "        if summarize_texts:\n",
    "            text_summaries = summarize_chain.batch(texts, {\"max_concurrency\": 1})\n",
    "        else:\n",
    "            text_summaries = texts\n",
    "            \n",
    "    # Apply to tables if tables are provided\n",
    "    if tables:\n",
    "        table_summaries = summarize_chain.batch(tables, {\"max_concurrency\": 1})\n",
    "    \n",
    "    return text_summaries, table_summaries \n",
    "\n",
    "# Get text, table summaries\n",
    "\n",
    "text_summaries, table_summaries = generate_text_summaries(\n",
    "    texts_4k_token, tables, summarize_texts=True\n",
    ")\n",
    "\n"
   ]
  },
  {
   "cell_type": "code",
   "execution_count": 17,
   "metadata": {},
   "outputs": [
    {
     "name": "stdout",
     "output_type": "stream",
     "text": [
      "['Error Processing Document', 'Error Processing Document']\n"
     ]
    }
   ],
   "source": [
    "print(table_summaries)"
   ]
  },
  {
   "cell_type": "code",
   "execution_count": 18,
   "metadata": {},
   "outputs": [],
   "source": [
    "def encode_image(image_path):\n",
    "    ''' Getting the base64 string'''\n",
    "    with open(image_path, \"rb\") as image_file:\n",
    "        encoded_string = base64.b64encode(image_file.read()).decode(\"utf-8\")    \n",
    "        return encoded_string\n",
    "\n",
    "# Summarize images \n",
    "def image_summarize(img_base64,prompt):\n",
    "    \"\"\" Make Summary of the image\"\"\"\n",
    "    model = ChatVertexAI(model_name = \"gemini-pro-vision\", max_output_tokens=1024)\n",
    "    \n",
    "    msg = model (\n",
    "        [\n",
    "            HumanMessage(\n",
    "                content = [\n",
    "                    {\"type\": \"text\", \"text\": prompt},\n",
    "                    {\n",
    "                        \"type\": \"image_url\",\n",
    "                        \"image_url\": {\n",
    "                            \"url\": f\"data:image/png; base64;{img_base64}\"}, \n",
    "                    },\n",
    "                ]\n",
    "            )\n",
    "        ]\n",
    "    )\n",
    "    \n",
    "    return msg.content \n",
    "\n",
    "def generate_img_summaries(path):\n",
    "    \"\"\"Generate summaries and base64 encoded strings for images \n",
    "    path: Path to list of .jpg files extracted by Unstructured\n",
    "\n",
    "    Args:\n",
    "        path (_type_): _description_\n",
    "    \"\"\"\n",
    "    \n",
    "    # Store base64 encoded images \n",
    "    img_base64_list = []\n",
    "    \n",
    "    # Store image summaries\n",
    "    image_summaries = []\n",
    "    \n",
    "    # Prompt for image summary \n",
    "    prompt = \"\"\" You are an assistant tasked with summarizing images for retrieval. \\\n",
    "        These summaries will be embedded and used to retrieve the raw image elements. \\\n",
    "        Give a concise summary of the image that is well optimized for retrieval. \\\n",
    "        If it's a table, extract all elements of the table and also summarize them.\n",
    "        If it's a Graph, explain the findings in the graph.\n",
    "        Do not  include any numbers that are not mentioned in the image \"\"\"\n",
    "    \n",
    "    # Apply to images\n",
    "    for img_file in sorted(os.listdir(path)):\n",
    "        if img_file.endswith(\".jpg\") or img_file.endswith(\".png\"):\n",
    "            img_path = os.path.join(path, img_file)\n",
    "            base64_image = encode_image(img_path)\n",
    "            img_base64_list.append(base64_image)\n",
    "            image_summaries.append(image_summarize(base64_image, prompt))\n",
    "        \n",
    "    return img_base64_list, image_summaries\n",
    "\n",
    "# Image Summaries\n",
    "img_base64_list, image_summaries = generate_img_summaries(\".\")\n"
   ]
  },
  {
   "cell_type": "markdown",
   "metadata": {},
   "source": [
    "### Vector Search Index & Endpoint Setup "
   ]
  },
  {
   "cell_type": "code",
   "execution_count": 21,
   "metadata": {},
   "outputs": [
    {
     "name": "stdout",
     "output_type": "stream",
     "text": [
      "Creating MatchingEngineIndex\n",
      "Create MatchingEngineIndex backing LRO: projects/1055298358924/locations/us-central1/indexes/7460366714367115264/operations/1407317468430467072\n",
      "MatchingEngineIndex created. Resource name: projects/1055298358924/locations/us-central1/indexes/7460366714367115264\n",
      "To use this MatchingEngineIndex in another session:\n",
      "index = aiplatform.MatchingEngineIndex('projects/1055298358924/locations/us-central1/indexes/7460366714367115264')\n"
     ]
    }
   ],
   "source": [
    "DIMENSIONS = 768\n",
    " \n",
    "index = aiplatform.MatchingEngineIndex.create_tree_ah_index(display_name=\"mm_rag_langchain_index\",\n",
    "                                                            dimensions=DIMENSIONS,\n",
    "                                                            approximate_neighbors_count=150,\n",
    "                                                            leaf_node_embedding_count=100,\n",
    "                                                            leaf_nodes_to_search_percent=7,\n",
    "                                                            description=\"Multimodal RAG Index - Langchain \")"
   ]
  },
  {
   "cell_type": "code",
   "execution_count": 22,
   "metadata": {},
   "outputs": [
    {
     "name": "stdout",
     "output_type": "stream",
     "text": [
      "Creating MatchingEngineIndexEndpoint\n",
      "Create MatchingEngineIndexEndpoint backing LRO: projects/1055298358924/locations/us-central1/indexEndpoints/5276261632580780032/operations/1129220191440338944\n",
      "MatchingEngineIndexEndpoint created. Resource name: projects/1055298358924/locations/us-central1/indexEndpoints/5276261632580780032\n",
      "To use this MatchingEngineIndexEndpoint in another session:\n",
      "index_endpoint = aiplatform.MatchingEngineIndexEndpoint('projects/1055298358924/locations/us-central1/indexEndpoints/5276261632580780032')\n"
     ]
    }
   ],
   "source": [
    "DEPLOYED_INDEX_ID = \"mm_rag_langchain_index_endpoint\"\n",
    "\n",
    "index_endpoint = aiplatform.MatchingEngineIndexEndpoint.create(\n",
    "    display_name=DEPLOYED_INDEX_ID,\n",
    "    description=\"Multimodal RAG Index Endpoint - Langchain\",\n",
    "    public_endpoint_enabled=True)"
   ]
  },
  {
   "cell_type": "code",
   "execution_count": 23,
   "metadata": {},
   "outputs": [
    {
     "name": "stdout",
     "output_type": "stream",
     "text": [
      "Deploying index MatchingEngineIndexEndpoint index_endpoint: projects/1055298358924/locations/us-central1/indexEndpoints/5276261632580780032\n",
      "Deploy index MatchingEngineIndexEndpoint index_endpoint backing LRO: projects/1055298358924/locations/us-central1/indexEndpoints/5276261632580780032/operations/496464443794784256\n",
      "MatchingEngineIndexEndpoint index_endpoint Deployed index. Resource name: projects/1055298358924/locations/us-central1/indexEndpoints/5276261632580780032\n"
     ]
    },
    {
     "data": {
      "text/plain": [
       "[id: \"mm_rag_langchain_index_endpoint\"\n",
       "index: \"projects/1055298358924/locations/us-central1/indexes/7460366714367115264\"\n",
       "create_time {\n",
       "  seconds: 1721613517\n",
       "  nanos: 753197000\n",
       "}\n",
       "index_sync_time {\n",
       "  seconds: 1721614505\n",
       "  nanos: 668128000\n",
       "}\n",
       "automatic_resources {\n",
       "  min_replica_count: 2\n",
       "  max_replica_count: 2\n",
       "}\n",
       "deployment_group: \"default\"\n",
       "]"
      ]
     },
     "execution_count": 23,
     "metadata": {},
     "output_type": "execute_result"
    }
   ],
   "source": [
    "# Deploy index to Index endpoint\n",
    "\n",
    "index_endpoint = index_endpoint.deploy_index(index = index, deployed_index_id= \"mm_rag_langchain_index_endpoint\")\n",
    "\n",
    "index_endpoint.deployed_indexes"
   ]
  },
  {
   "cell_type": "code",
   "execution_count": 31,
   "metadata": {},
   "outputs": [],
   "source": [
    "## Create retriever & load documents\n",
    "### VectorSearchVectorStore with Vector Search Index ID and Endpoint ID \n",
    "### textembedding --> Gecko model\n",
    "\n",
    "vectorstore = VectorSearchVectorStore.from_components(\n",
    "    project_id = PROJECT_ID,\n",
    "    region = LOCATION,\n",
    "    gcs_bucket_name = GCS_BUCKET_SINGLE,\n",
    "    index_id = index.name,\n",
    "    endpoint_id = index_endpoint.name,\n",
    "    embedding = VertexAIEmbeddings(model_name=\"textembedding-gecko@003\"),\n",
    ")"
   ]
  },
  {
   "cell_type": "code",
   "execution_count": 32,
   "metadata": {},
   "outputs": [],
   "source": [
    "### Create Multi-Vector Retriever using the vector store \n",
    "### Since vector stores  -> Contain the embedding and an ID, Also need to create a document store indexed by ID --> Get original source documents after searching for embeddings\n",
    "\n",
    "docstore = InMemoryStore()\n",
    "\n",
    "id_key = \"doc_id\"\n",
    "\n",
    "# Create the multi vector retriever\n",
    "retriever_multi_vector_img = MultiVectorRetriever(vectorstore=vectorstore, docstore=docstore, id_key=id_key)"
   ]
  },
  {
   "cell_type": "code",
   "execution_count": 33,
   "metadata": {},
   "outputs": [
    {
     "name": "stdout",
     "output_type": "stream",
     "text": [
      "Updating MatchingEngineIndex index: projects/1055298358924/locations/us-central1/indexes/7460366714367115264\n",
      "Update MatchingEngineIndex index backing LRO: projects/1055298358924/locations/us-central1/indexes/7460366714367115264/operations/8513997680421109760\n",
      "MatchingEngineIndex index Updated. Resource name: projects/1055298358924/locations/us-central1/indexes/7460366714367115264\n"
     ]
    },
    {
     "data": {
      "text/plain": [
       "['f0056e7a-3541-4d72-9ada-e817e63d79cd',\n",
       " '6bbb1a62-788c-4291-8ba0-0efacffe07ac',\n",
       " 'a33542fc-d82f-4931-a8a6-4fc334a0ae7f']"
      ]
     },
     "execution_count": 33,
     "metadata": {},
     "output_type": "execute_result"
    }
   ],
   "source": [
    "# Load data --> Documents and vector stores \n",
    "\n",
    "doc_contents = texts + tables  + img_base64_list\n",
    "\n",
    "doc_ids = [str(uuid.uuid4()) for _ in range(len(doc_contents))]\n",
    "\n",
    "summary_docs = [\n",
    "    Document(page_content=s, metadata={id_key: doc_ids[i]})\n",
    "    for i, s in enumerate(text_summaries + table_summaries + image_summaries)\n",
    "]\n",
    "\n",
    "retriever_multi_vector_img.docstore.mset(list(zip(doc_ids, doc_contents)))\n",
    "\n",
    "retriever_multi_vector_img.vectorstore.add_documents(summary_docs)"
   ]
  },
  {
   "cell_type": "markdown",
   "metadata": {},
   "source": [
    "## Create Chain with Retriever and Gemini LLM\n"
   ]
  },
  {
   "cell_type": "code",
   "execution_count": 34,
   "metadata": {},
   "outputs": [],
   "source": [
    "def looks_like_base64(sb):\n",
    "    \"\"\"Check if the string looks like base64\"\"\"\n",
    "    return re.match(\"^[A-Za-z0-9+/]+[=]{0,2}$\", sb) is not None"
   ]
  },
  {
   "cell_type": "code",
   "execution_count": 35,
   "metadata": {},
   "outputs": [],
   "source": [
    "def is_image_data(b64data):\n",
    "    \"\"\"\n",
    "    Check if the base64 data is an image by looking at the start of the data\n",
    "    \"\"\"\n",
    "    image_signatures = {\n",
    "        b\"\\xFF\\xD8\\xFF\": \"jpg\",\n",
    "        b\"\\x89\\x50\\x4E\\x47\\x0D\\x0A\\x1A\\x0A\": \"png\",\n",
    "        b\"\\x47\\x49\\x46\\x38\": \"gif\",\n",
    "        b\"\\x52\\x49\\x46\\x46\": \"webp\",\n",
    "    }\n",
    "    try:\n",
    "        header = base64.b64decode(b64data)[:8]  # Decode and get the first 8 bytes\n",
    "        for sig, format in image_signatures.items():\n",
    "            if header.startswith(sig):\n",
    "                return True\n",
    "        return False\n",
    "    except Exception:\n",
    "        return False"
   ]
  },
  {
   "cell_type": "code",
   "execution_count": 36,
   "metadata": {},
   "outputs": [],
   "source": [
    "def split_image_text_types(docs):\n",
    "    \"\"\"\n",
    "    Split base64-encoded images and texts\n",
    "    \"\"\"\n",
    "    b64_images = []\n",
    "    texts = []\n",
    "    for doc in docs:\n",
    "        # Check if the document is of type Document and extract page_content if so \n",
    "        if isinstance(doc, Document):\n",
    "            doc = doc.page_content\n",
    "        if looks_like_base64(doc) and is_image_data(doc):\n",
    "            b64_images.append(doc)\n",
    "        else:\n",
    "            texts.append(doc)\n",
    "    return {\"images\": b64_images, \"texts\": texts}\n",
    "\n"
   ]
  },
  {
   "cell_type": "code",
   "execution_count": 59,
   "metadata": {},
   "outputs": [],
   "source": [
    "import pprint"
   ]
  },
  {
   "cell_type": "code",
   "execution_count": 66,
   "metadata": {},
   "outputs": [],
   "source": [
    "# def img_prompt_func(data_dict):\n",
    "#     \"\"\"\n",
    "#     Join the  context into a single string\n",
    "#     \"\"\"\n",
    "#     formatted_texts = \"\\n\".join(data_dict[\"context\"][\"texts\"])\n",
    "    \n",
    "#     messages = [\n",
    "#         {\n",
    "#             \"type\": \"text\",\n",
    "#             \"text\": (\n",
    "#                 \"You are financial analyst tasking with providing evidence\",\n",
    "#                 \"You will be given a  mix of text , tables and image(s) usually of charts or graphs \\n \",\n",
    "#                 \"Use this information to provide investment advice related to the user's question \\n\",\n",
    "#                 f\"User-provided question: {data_dict['question']}\\n\",\n",
    "#                 \"Text and /or tables :\\n\",\n",
    "#                 f\"{formatted_texts}\\n\",\n",
    "#             )\n",
    "#         }\n",
    "#     ]\n",
    "    \n",
    "#     # Adding images to messages if present \n",
    "#     if data_dict[\"context\"][\"images\"]:\n",
    "#         for image in data_dict[\"context\"][\"images\"]:\n",
    "#             messages.append({\"type\": \"image_url\", \"image_url\": {\"url\": f\"data:image/jpeg;base64,{image}\"}, \n",
    "#                              })\n",
    "            \n",
    "#         return [HumanMessage(content=messages)]\n",
    "    \n",
    "    \n",
    "def img_prompt_func(data_dict):\n",
    "    \"\"\"\n",
    "    Create a structured prompt from the context and question for the multimodal model.\n",
    "    \"\"\"\n",
    "    formatted_texts = \"\\n\".join(data_dict[\"context\"][\"texts\"])\n",
    "    \n",
    "    # Construct the main message content\n",
    "    content = (\n",
    "        \"You are a financial analyst tasked with providing evidence-based investment advice. \"\n",
    "        \"You will be given a mix of text, tables, and images (usually of charts or graphs).\\n\\n\"\n",
    "        f\"User-provided question: {data_dict['question']}\\n\\n\"\n",
    "        \"Text and/or tables:\\n\"\n",
    "        f\"{formatted_texts}\\n\"\n",
    "    )\n",
    "    \n",
    "    # Initialize the messages list with the main text message\n",
    "    messages = [HumanMessage(content=content)]\n",
    "    \n",
    "    # Add images to messages if present\n",
    "    if data_dict[\"context\"][\"images\"]:\n",
    "        for image in data_dict[\"context\"][\"images\"]:\n",
    "            messages.append(HumanMessage(content=f\"![chart](data:image/jpeg;base64,{image})\"))\n",
    "    \n",
    "    # Debug print to check the output\n",
    "    pprint.pprint(messages)\n",
    "    \n",
    "    return messages"
   ]
  },
  {
   "cell_type": "code",
   "execution_count": 67,
   "metadata": {},
   "outputs": [],
   "source": [
    "# Create RAG Chain \n",
    "\n",
    "chain_multimodal_rag = (\n",
    "    {\n",
    "        \"context\": retriever_multi_vector_img | RunnableLambda(split_image_text_types),\n",
    "        \"question\": RunnablePassthrough(),\n",
    "    }\n",
    "    | RunnableLambda(lambda x: (print(f\"Data before img_prompt_func: {x}\"), img_prompt_func(x))[1])\n",
    "    | ChatVertexAI(temperature=0, model_name=\"gemini-pro-vision\", max_output_tokens=1024)  # Multi-modal LLM - Gemini Pro vision\n",
    "    | RunnableLambda(lambda x: (print(f\"Response from model: {x}\"), x)[1])\n",
    "    | StrOutputParser()\n",
    ")"
   ]
  },
  {
   "cell_type": "markdown",
   "metadata": {},
   "source": [
    "## Process user query\n"
   ]
  },
  {
   "cell_type": "code",
   "execution_count": 68,
   "metadata": {},
   "outputs": [],
   "source": [
    "query = \"\"\"\n",
    " - What are the critical difference between various graphs for Class A Share?\n",
    " - Which index best matches Class A share performance closely where Google is not already a part? Explain the reasoning.\n",
    " - Identify key chart patterns for Google Class A shares.\n",
    " - What is cost of revenues, operating expenses and net income for 2020. Do mention the percentage change\n",
    " - What was the effect of Covid in the 2020 financial year?\n",
    " - What are the total revenues for APAC and USA for 2021?\n",
    " - What is deferred income taxes?\n",
    " - How do you compute net income per share?\n",
    " - What drove percentage change in the consolidated revenue and cost of revenue for the year 2021 and was there any effect of Covid?\n",
    " - What is the cause of 41% increase in revenue from 2020 to 2021 and how much is dollar change?\n",
    "\"\"\""
   ]
  },
  {
   "cell_type": "code",
   "execution_count": 69,
   "metadata": {},
   "outputs": [],
   "source": [
    "query_ques = {\"question\": query}"
   ]
  },
  {
   "cell_type": "code",
   "execution_count": 70,
   "metadata": {},
   "outputs": [
    {
     "name": "stdout",
     "output_type": "stream",
     "text": [
      "[\"Stock Performance Graphs\\n\\nThe graph below matches Alphabet Inc. Class A's cumulative 5-year total stockholder return on common stock with the cumulative total returns of the S&P 500 index, the NASDAQ Composite index, and the RDG Internet Composite index. The graph tracks the performance of a $100 investment in our common stock and in each index (with the reinvestment of all dividends) from December 31, 2016 to December 31, 2021. The returns shown are based on historical results and are not intended to suggest future performance.\\n\\nCOMPARISON OF CUMULATIVE 5-YEAR TOTAL RETURN* ALPHABET INC. CLASS A COMMON STOCK Among Alphabet Inc., the S&P 500 Index, the NASDAQ Composite Index, and the RDG Internet Composite Index $350 $250 $150 $100 BP FSH gg g% gy oF p% gh J gph HK KML LC LS ——— Alphabet Inc. Class A ——— S&P 500 ——— RDG Internet Composite NASDAQ Composite *$100 invested on December 31, 2016 in stock or index, including reinvestment of dividends. Fiscal year ending December 31. Copyright® 2022 S&P, a division of The McGraw-Hill Companies Inc. All rights reserved.\\n\\nThe graph below matches Alphabet Inc. Class A's cumulative 5-year total stockholder return on common stock with the cumulative total returns of the S&P 500 index, the NASDAQ Composite index, and the RDG Internet Composite index. The graph tracks the performance of a $100 investment in our common stock and in each index (with the reinvestment of all dividends) from December 31, 2017 to December 31, 2022. The returns shown are based on historical results and are not intended to suggest future performance.\\n\\nCOMPARISON OF CUMULATIVE 5-YEAR TOTAL RETURN* ALPHABET INC. CLASS A COMMON STOCK Among Alphabet Inc., the S&P 500 Index, the NASDAQ Composite Index, and the RDG Internet Composite Index $400 $350 ~ $300 - $250 - $200 - $150 - $100 $50 ~ $0 “5 T T T T — — — —1— — AnD nD WD DD WD WD 1D GD GO QO GD EW aX Gr Gr GL GV GV oD BF BB ag VM MD MM MWh MMM Mh MMM Alphabet Inc. Class A —— S&P 500 = NASDAQ Composite RDG Internet Composite *$100 invested on December 31, 2017 in stock or index, including reinvestment of dividends. Copyright® 2023 S&P, a division of The McGraw-Hill Companies Inc. All rights reserved.\", 'Executive Overview\\n\\nThe following table summarizes consolidated financial results for the years ended December 31, 2020 and 2021 unless otherwise specified (in millions, except for per share information and percentages):\\n\\nYear Ended December 31, 2020 2021 $ Change % Change Consolidated revenues $182,527 $257,637 $ 75,110 41% Change in consolidated constant currency revenues 39 % Cost of revenues $ 84,732 $ 110,939 $ 26,207 31% Operating expenses $ 56,571 $ 67,984 $ 11,413 20 % Operating income $ 41,224 $ 78,714 $ 37,490 91% Operating margin 23 % 31 % 8% Other income (expense), net $ 6858 $ 12,020 $ 5,162 75 % Net Income $ 40,269 $ 76,033 $ 35,764 89 % Diluted EPS $ 5861 $ 11220 §$ 53.59 91 % Number of Employees 135,301 156,500 21,199 16 %\\n\\n● Revenues were $257.6 billion, an increase of 41%. The increase in revenues was primarily driven by Google Services and Google Cloud. The adverse effect of COVID-19 on 2020 advertising revenues also contributed to the year-over-year growth.\\n\\n● Cost of revenues was $110.9 billion, an increase of 31%, primarily driven by increases in TAC and content acquisition costs.\\n\\n● An overall increase in data centers and other operations costs was partially offset by a reduction in depreciation expense due to the change in the estimated useful life of our servers and certain network equipment. • Operating expenses were $68.0 billion, an increase of 20%, primarily driven by headcount growth, increases in advertising and promotional expenses and charges related to legal matters.\\n\\nOther information:\\n\\n● Operating cash flow was $91.7 billion, primarily driven by revenues generated from our advertising products.\\n\\n● Share repurchases were $50.3 billion, an increase of 62%. See Note 11 of the Notes to Consolidated Financial Statements included in Item 8 of this Annual Report on Form 10-K for further information.\\n\\n● Capital expenditures, which primarily reflected investments in technical infrastructure, were $24.6 billion.\\n\\n● In January 2021, we updated the useful lives of certain of our servers and network equipment, resulting in a reduction in depreciation expense of $2.6 billion recorded primarily in cost of revenues and R&D. See Note 1 of the Notes to Consolidated Financial Statements included in Item 8 of this Annual Report on Form 10-K for further information.\\n\\n● Our acquisition of Fitbit closed in early January 2021, and the related revenues are included in Google other. See Note 8 of the Notes to Consolidated Financial Statements included in Item 8 of this Annual Report on Form 10-K for further information.\\n\\nhad approved and declared a 20- for-one stock split in the form of a one-time special stock dividend on each share of the Company’s Class A, Class B, and Class C stock. See Note 11 of the Notes to Consolidated Financial Statements included in Item 8 of this Annual Report on Form 10-K for additional information.', 'source: https://abc.xyz/assets/investor/static/pdf/20220202_alphabet_10K.pdf source: https://abc.xyz/assets/9a/bd/838c917c4b4ab21f94e84c3c2c65/goog-10-k-q4-2022.pdf Note: Tables and figures are converted to images for demonstration purposes.\\n\\nMARKET FOR REGISTRANT’S COMMON EQUITY, RELATED STOCKHOLDER MATTERS AND ISSUER PURCHASES OF EQUITY SECURITIES\\n\\nAs of October 2, 2015, Alphabet Inc. became the successor issuer of Google Inc. pursuant to Rule 12g-3(a) under the Exchange Act. Our Class A common stock has been listed on the Nasdaq Global Select Market under the symbol “GOOG” since August 19, 2004 and under the symbol \"GOOGL\" since April 3, 2014. Prior to August 19, 2004, there was no public market for our stock. Our Class B common stock is neither listed nor traded. Our Class C capital stock has been listed on the Nasdaq Global Select Market under the symbol “GOOG” since April 3, 2014.\\n\\nHolders of Record\\n\\nAs of December 31, 2021, there were approximately 4,907 and 1,733 stockholders of record of our Class A common stock and Class C capital stock, respectively. Because many of our shares of Class A common stock and Class C capital stock are held by brokers and other institutions on behalf of stockholders, we are unable to estimate the total number of stockholders represented by these record holders. As of December 31, 2021, there were approximately 64 stockholders of record of our Class B common stock.\\n\\nDividend Policy\\n\\nWe have never declared or paid any cash dividend on our common or capital stock. The primary use of capital continues to be to invest for the long-term growth of the business. We regularly evaluate our cash and capital structure, including the size, pace, and form of capital return to stockholders.\\n\\nIssuer Purchases of Equity Securities\\n\\nThe following table presents information with respect to Alphabet\\'s repurchases of Class A common stock and Class C capital stock during the quarter ended December 31, 2021:\\n\\nTotal Number of Approxi Shares lar Value of Purchased Shares that Total Number of Total Numberof A\\\\ Price Ai Price Partof Publicly Yet Be Purchased A Shares Inder Purchased Purchased ClassA Share Class C Share Programs Period (in thousands) \"(in thousands) \"’ bl _*___{inthousands)\" __(in millions) _ October 1 - 31 126 1,445 $ 2,812.76 $ 2,794.72 1.571 § 26,450 November 1 - 30 289 1,393 $ 2,943.97 $ 2,956.73 1,682 $ 21,479 December 1 - 31 250 1,169 $ 2,880.79 $ 2,898.56 1,419 $ 17,371 Total 665 4,007 4,672 () The repurchases are being executed from time to time, subject to general business and market conditions and other investment opportunities, through open market purchases or privately negotiated transactions, including through Rule 10b5-1 plans. The repurchase program does not have an expiration date. See Note 11 of the Notes to Consolidated Financial Statements included in Item 8 of this Annual Report on Form 10-K for additional information related to share repurchases. @ Average price paid per share includes costs associated with the repurchases.']\n"
     ]
    }
   ],
   "source": [
    "# List of source documents\n",
    "docs = retriever_multi_vector_img.get_relevant_documents(query, limit=10)\n",
    "\n",
    "source_docs = split_image_text_types(docs)\n",
    "\n",
    "print(source_docs[\"texts\"])\n",
    "\n",
    "for i in source_docs[\"images\"]:\n",
    "    display(Image(base64.b64decode(i)))"
   ]
  },
  {
   "cell_type": "code",
   "execution_count": 71,
   "metadata": {},
   "outputs": [
    {
     "name": "stdout",
     "output_type": "stream",
     "text": [
      "Data before img_prompt_func: {'context': {'images': [], 'texts': [\"Stock Performance Graphs\\n\\nThe graph below matches Alphabet Inc. Class A's cumulative 5-year total stockholder return on common stock with the cumulative total returns of the S&P 500 index, the NASDAQ Composite index, and the RDG Internet Composite index. The graph tracks the performance of a $100 investment in our common stock and in each index (with the reinvestment of all dividends) from December 31, 2016 to December 31, 2021. The returns shown are based on historical results and are not intended to suggest future performance.\\n\\nCOMPARISON OF CUMULATIVE 5-YEAR TOTAL RETURN* ALPHABET INC. CLASS A COMMON STOCK Among Alphabet Inc., the S&P 500 Index, the NASDAQ Composite Index, and the RDG Internet Composite Index $350 $250 $150 $100 BP FSH gg g% gy oF p% gh J gph HK KML LC LS ——— Alphabet Inc. Class A ——— S&P 500 ——— RDG Internet Composite NASDAQ Composite *$100 invested on December 31, 2016 in stock or index, including reinvestment of dividends. Fiscal year ending December 31. Copyright® 2022 S&P, a division of The McGraw-Hill Companies Inc. All rights reserved.\\n\\nThe graph below matches Alphabet Inc. Class A's cumulative 5-year total stockholder return on common stock with the cumulative total returns of the S&P 500 index, the NASDAQ Composite index, and the RDG Internet Composite index. The graph tracks the performance of a $100 investment in our common stock and in each index (with the reinvestment of all dividends) from December 31, 2017 to December 31, 2022. The returns shown are based on historical results and are not intended to suggest future performance.\\n\\nCOMPARISON OF CUMULATIVE 5-YEAR TOTAL RETURN* ALPHABET INC. CLASS A COMMON STOCK Among Alphabet Inc., the S&P 500 Index, the NASDAQ Composite Index, and the RDG Internet Composite Index $400 $350 ~ $300 - $250 - $200 - $150 - $100 $50 ~ $0 “5 T T T T — — — —1— — AnD nD WD DD WD WD 1D GD GO QO GD EW aX Gr Gr GL GV GV oD BF BB ag VM MD MM MWh MMM Mh MMM Alphabet Inc. Class A —— S&P 500 = NASDAQ Composite RDG Internet Composite *$100 invested on December 31, 2017 in stock or index, including reinvestment of dividends. Copyright® 2023 S&P, a division of The McGraw-Hill Companies Inc. All rights reserved.\", 'Executive Overview\\n\\nThe following table summarizes consolidated financial results for the years ended December 31, 2020 and 2021 unless otherwise specified (in millions, except for per share information and percentages):\\n\\nYear Ended December 31, 2020 2021 $ Change % Change Consolidated revenues $182,527 $257,637 $ 75,110 41% Change in consolidated constant currency revenues 39 % Cost of revenues $ 84,732 $ 110,939 $ 26,207 31% Operating expenses $ 56,571 $ 67,984 $ 11,413 20 % Operating income $ 41,224 $ 78,714 $ 37,490 91% Operating margin 23 % 31 % 8% Other income (expense), net $ 6858 $ 12,020 $ 5,162 75 % Net Income $ 40,269 $ 76,033 $ 35,764 89 % Diluted EPS $ 5861 $ 11220 §$ 53.59 91 % Number of Employees 135,301 156,500 21,199 16 %\\n\\n● Revenues were $257.6 billion, an increase of 41%. The increase in revenues was primarily driven by Google Services and Google Cloud. The adverse effect of COVID-19 on 2020 advertising revenues also contributed to the year-over-year growth.\\n\\n● Cost of revenues was $110.9 billion, an increase of 31%, primarily driven by increases in TAC and content acquisition costs.\\n\\n● An overall increase in data centers and other operations costs was partially offset by a reduction in depreciation expense due to the change in the estimated useful life of our servers and certain network equipment. • Operating expenses were $68.0 billion, an increase of 20%, primarily driven by headcount growth, increases in advertising and promotional expenses and charges related to legal matters.\\n\\nOther information:\\n\\n● Operating cash flow was $91.7 billion, primarily driven by revenues generated from our advertising products.\\n\\n● Share repurchases were $50.3 billion, an increase of 62%. See Note 11 of the Notes to Consolidated Financial Statements included in Item 8 of this Annual Report on Form 10-K for further information.\\n\\n● Capital expenditures, which primarily reflected investments in technical infrastructure, were $24.6 billion.\\n\\n● In January 2021, we updated the useful lives of certain of our servers and network equipment, resulting in a reduction in depreciation expense of $2.6 billion recorded primarily in cost of revenues and R&D. See Note 1 of the Notes to Consolidated Financial Statements included in Item 8 of this Annual Report on Form 10-K for further information.\\n\\n● Our acquisition of Fitbit closed in early January 2021, and the related revenues are included in Google other. See Note 8 of the Notes to Consolidated Financial Statements included in Item 8 of this Annual Report on Form 10-K for further information.\\n\\nhad approved and declared a 20- for-one stock split in the form of a one-time special stock dividend on each share of the Company’s Class A, Class B, and Class C stock. See Note 11 of the Notes to Consolidated Financial Statements included in Item 8 of this Annual Report on Form 10-K for additional information.', 'source: https://abc.xyz/assets/investor/static/pdf/20220202_alphabet_10K.pdf source: https://abc.xyz/assets/9a/bd/838c917c4b4ab21f94e84c3c2c65/goog-10-k-q4-2022.pdf Note: Tables and figures are converted to images for demonstration purposes.\\n\\nMARKET FOR REGISTRANT’S COMMON EQUITY, RELATED STOCKHOLDER MATTERS AND ISSUER PURCHASES OF EQUITY SECURITIES\\n\\nAs of October 2, 2015, Alphabet Inc. became the successor issuer of Google Inc. pursuant to Rule 12g-3(a) under the Exchange Act. Our Class A common stock has been listed on the Nasdaq Global Select Market under the symbol “GOOG” since August 19, 2004 and under the symbol \"GOOGL\" since April 3, 2014. Prior to August 19, 2004, there was no public market for our stock. Our Class B common stock is neither listed nor traded. Our Class C capital stock has been listed on the Nasdaq Global Select Market under the symbol “GOOG” since April 3, 2014.\\n\\nHolders of Record\\n\\nAs of December 31, 2021, there were approximately 4,907 and 1,733 stockholders of record of our Class A common stock and Class C capital stock, respectively. Because many of our shares of Class A common stock and Class C capital stock are held by brokers and other institutions on behalf of stockholders, we are unable to estimate the total number of stockholders represented by these record holders. As of December 31, 2021, there were approximately 64 stockholders of record of our Class B common stock.\\n\\nDividend Policy\\n\\nWe have never declared or paid any cash dividend on our common or capital stock. The primary use of capital continues to be to invest for the long-term growth of the business. We regularly evaluate our cash and capital structure, including the size, pace, and form of capital return to stockholders.\\n\\nIssuer Purchases of Equity Securities\\n\\nThe following table presents information with respect to Alphabet\\'s repurchases of Class A common stock and Class C capital stock during the quarter ended December 31, 2021:\\n\\nTotal Number of Approxi Shares lar Value of Purchased Shares that Total Number of Total Numberof A\\\\ Price Ai Price Partof Publicly Yet Be Purchased A Shares Inder Purchased Purchased ClassA Share Class C Share Programs Period (in thousands) \"(in thousands) \"’ bl _*___{inthousands)\" __(in millions) _ October 1 - 31 126 1,445 $ 2,812.76 $ 2,794.72 1.571 § 26,450 November 1 - 30 289 1,393 $ 2,943.97 $ 2,956.73 1,682 $ 21,479 December 1 - 31 250 1,169 $ 2,880.79 $ 2,898.56 1,419 $ 17,371 Total 665 4,007 4,672 () The repurchases are being executed from time to time, subject to general business and market conditions and other investment opportunities, through open market purchases or privately negotiated transactions, including through Rule 10b5-1 plans. The repurchase program does not have an expiration date. See Note 11 of the Notes to Consolidated Financial Statements included in Item 8 of this Annual Report on Form 10-K for additional information related to share repurchases. @ Average price paid per share includes costs associated with the repurchases.']}, 'question': '\\n - What are the critical difference between various graphs for Class A Share?\\n - Which index best matches Class A share performance closely where Google is not already a part? Explain the reasoning.\\n - Identify key chart patterns for Google Class A shares.\\n - What is cost of revenues, operating expenses and net income for 2020. Do mention the percentage change\\n - What was the effect of Covid in the 2020 financial year?\\n - What are the total revenues for APAC and USA for 2021?\\n - What is deferred income taxes?\\n - How do you compute net income per share?\\n - What drove percentage change in the consolidated revenue and cost of revenue for the year 2021 and was there any effect of Covid?\\n - What is the cause of 41% increase in revenue from 2020 to 2021 and how much is dollar change?\\n'}\n",
      "[HumanMessage(content='You are a financial analyst tasked with providing evidence-based investment advice. You will be given a mix of text, tables, and images (usually of charts or graphs).\\n\\nUser-provided question: \\n - What are the critical difference between various graphs for Class A Share?\\n - Which index best matches Class A share performance closely where Google is not already a part? Explain the reasoning.\\n - Identify key chart patterns for Google Class A shares.\\n - What is cost of revenues, operating expenses and net income for 2020. Do mention the percentage change\\n - What was the effect of Covid in the 2020 financial year?\\n - What are the total revenues for APAC and USA for 2021?\\n - What is deferred income taxes?\\n - How do you compute net income per share?\\n - What drove percentage change in the consolidated revenue and cost of revenue for the year 2021 and was there any effect of Covid?\\n - What is the cause of 41% increase in revenue from 2020 to 2021 and how much is dollar change?\\n\\n\\nText and/or tables:\\nStock Performance Graphs\\n\\nThe graph below matches Alphabet Inc. Class A\\'s cumulative 5-year total stockholder return on common stock with the cumulative total returns of the S&P 500 index, the NASDAQ Composite index, and the RDG Internet Composite index. The graph tracks the performance of a $100 investment in our common stock and in each index (with the reinvestment of all dividends) from December 31, 2016 to December 31, 2021. The returns shown are based on historical results and are not intended to suggest future performance.\\n\\nCOMPARISON OF CUMULATIVE 5-YEAR TOTAL RETURN* ALPHABET INC. CLASS A COMMON STOCK Among Alphabet Inc., the S&P 500 Index, the NASDAQ Composite Index, and the RDG Internet Composite Index $350 $250 $150 $100 BP FSH gg g% gy oF p% gh J gph HK KML LC LS ——— Alphabet Inc. Class A ——— S&P 500 ——— RDG Internet Composite NASDAQ Composite *$100 invested on December 31, 2016 in stock or index, including reinvestment of dividends. Fiscal year ending December 31. Copyright® 2022 S&P, a division of The McGraw-Hill Companies Inc. All rights reserved.\\n\\nThe graph below matches Alphabet Inc. Class A\\'s cumulative 5-year total stockholder return on common stock with the cumulative total returns of the S&P 500 index, the NASDAQ Composite index, and the RDG Internet Composite index. The graph tracks the performance of a $100 investment in our common stock and in each index (with the reinvestment of all dividends) from December 31, 2017 to December 31, 2022. The returns shown are based on historical results and are not intended to suggest future performance.\\n\\nCOMPARISON OF CUMULATIVE 5-YEAR TOTAL RETURN* ALPHABET INC. CLASS A COMMON STOCK Among Alphabet Inc., the S&P 500 Index, the NASDAQ Composite Index, and the RDG Internet Composite Index $400 $350 ~ $300 - $250 - $200 - $150 - $100 $50 ~ $0 “5 T T T T — — — —1— — AnD nD WD DD WD WD 1D GD GO QO GD EW aX Gr Gr GL GV GV oD BF BB ag VM MD MM MWh MMM Mh MMM Alphabet Inc. Class A —— S&P 500 = NASDAQ Composite RDG Internet Composite *$100 invested on December 31, 2017 in stock or index, including reinvestment of dividends. Copyright® 2023 S&P, a division of The McGraw-Hill Companies Inc. All rights reserved.\\nExecutive Overview\\n\\nThe following table summarizes consolidated financial results for the years ended December 31, 2020 and 2021 unless otherwise specified (in millions, except for per share information and percentages):\\n\\nYear Ended December 31, 2020 2021 $ Change % Change Consolidated revenues $182,527 $257,637 $ 75,110 41% Change in consolidated constant currency revenues 39 % Cost of revenues $ 84,732 $ 110,939 $ 26,207 31% Operating expenses $ 56,571 $ 67,984 $ 11,413 20 % Operating income $ 41,224 $ 78,714 $ 37,490 91% Operating margin 23 % 31 % 8% Other income (expense), net $ 6858 $ 12,020 $ 5,162 75 % Net Income $ 40,269 $ 76,033 $ 35,764 89 % Diluted EPS $ 5861 $ 11220 §$ 53.59 91 % Number of Employees 135,301 156,500 21,199 16 %\\n\\n● Revenues were $257.6 billion, an increase of 41%. The increase in revenues was primarily driven by Google Services and Google Cloud. The adverse effect of COVID-19 on 2020 advertising revenues also contributed to the year-over-year growth.\\n\\n● Cost of revenues was $110.9 billion, an increase of 31%, primarily driven by increases in TAC and content acquisition costs.\\n\\n● An overall increase in data centers and other operations costs was partially offset by a reduction in depreciation expense due to the change in the estimated useful life of our servers and certain network equipment. • Operating expenses were $68.0 billion, an increase of 20%, primarily driven by headcount growth, increases in advertising and promotional expenses and charges related to legal matters.\\n\\nOther information:\\n\\n● Operating cash flow was $91.7 billion, primarily driven by revenues generated from our advertising products.\\n\\n● Share repurchases were $50.3 billion, an increase of 62%. See Note 11 of the Notes to Consolidated Financial Statements included in Item 8 of this Annual Report on Form 10-K for further information.\\n\\n● Capital expenditures, which primarily reflected investments in technical infrastructure, were $24.6 billion.\\n\\n● In January 2021, we updated the useful lives of certain of our servers and network equipment, resulting in a reduction in depreciation expense of $2.6 billion recorded primarily in cost of revenues and R&D. See Note 1 of the Notes to Consolidated Financial Statements included in Item 8 of this Annual Report on Form 10-K for further information.\\n\\n● Our acquisition of Fitbit closed in early January 2021, and the related revenues are included in Google other. See Note 8 of the Notes to Consolidated Financial Statements included in Item 8 of this Annual Report on Form 10-K for further information.\\n\\nhad approved and declared a 20- for-one stock split in the form of a one-time special stock dividend on each share of the Company’s Class A, Class B, and Class C stock. See Note 11 of the Notes to Consolidated Financial Statements included in Item 8 of this Annual Report on Form 10-K for additional information.\\nsource: https://abc.xyz/assets/investor/static/pdf/20220202_alphabet_10K.pdf source: https://abc.xyz/assets/9a/bd/838c917c4b4ab21f94e84c3c2c65/goog-10-k-q4-2022.pdf Note: Tables and figures are converted to images for demonstration purposes.\\n\\nMARKET FOR REGISTRANT’S COMMON EQUITY, RELATED STOCKHOLDER MATTERS AND ISSUER PURCHASES OF EQUITY SECURITIES\\n\\nAs of October 2, 2015, Alphabet Inc. became the successor issuer of Google Inc. pursuant to Rule 12g-3(a) under the Exchange Act. Our Class A common stock has been listed on the Nasdaq Global Select Market under the symbol “GOOG” since August 19, 2004 and under the symbol \"GOOGL\" since April 3, 2014. Prior to August 19, 2004, there was no public market for our stock. Our Class B common stock is neither listed nor traded. Our Class C capital stock has been listed on the Nasdaq Global Select Market under the symbol “GOOG” since April 3, 2014.\\n\\nHolders of Record\\n\\nAs of December 31, 2021, there were approximately 4,907 and 1,733 stockholders of record of our Class A common stock and Class C capital stock, respectively. Because many of our shares of Class A common stock and Class C capital stock are held by brokers and other institutions on behalf of stockholders, we are unable to estimate the total number of stockholders represented by these record holders. As of December 31, 2021, there were approximately 64 stockholders of record of our Class B common stock.\\n\\nDividend Policy\\n\\nWe have never declared or paid any cash dividend on our common or capital stock. The primary use of capital continues to be to invest for the long-term growth of the business. We regularly evaluate our cash and capital structure, including the size, pace, and form of capital return to stockholders.\\n\\nIssuer Purchases of Equity Securities\\n\\nThe following table presents information with respect to Alphabet\\'s repurchases of Class A common stock and Class C capital stock during the quarter ended December 31, 2021:\\n\\nTotal Number of Approxi Shares lar Value of Purchased Shares that Total Number of Total Numberof A\\\\ Price Ai Price Partof Publicly Yet Be Purchased A Shares Inder Purchased Purchased ClassA Share Class C Share Programs Period (in thousands) \"(in thousands) \"’ bl _*___{inthousands)\" __(in millions) _ October 1 - 31 126 1,445 $ 2,812.76 $ 2,794.72 1.571 § 26,450 November 1 - 30 289 1,393 $ 2,943.97 $ 2,956.73 1,682 $ 21,479 December 1 - 31 250 1,169 $ 2,880.79 $ 2,898.56 1,419 $ 17,371 Total 665 4,007 4,672 () The repurchases are being executed from time to time, subject to general business and market conditions and other investment opportunities, through open market purchases or privately negotiated transactions, including through Rule 10b5-1 plans. The repurchase program does not have an expiration date. See Note 11 of the Notes to Consolidated Financial Statements included in Item 8 of this Annual Report on Form 10-K for additional information related to share repurchases. @ Average price paid per share includes costs associated with the repurchases.\\n')]\n",
      "Response from model: content='**1. What are the critical difference between various graphs for Class A Share?**\\n\\nThe provided text does not contain any information on the critical differences between various graphs for Class A shares.\\n\\n**2. Which index best matches Class A share performance closely where Google is not already a part? Explain the reasoning.**\\n\\nThe provided text does not contain any information on which index best matches Class A share performance closely where Google is not already a part.\\n\\n**3. Identify key chart patterns for Google Class A shares.**\\n\\nThe provided text does not contain any information on key chart patterns for Google Class A shares.\\n\\n**4. What is cost of revenues, operating expenses and net income for 2020. Do mention the percentage change**\\n\\n- Cost of revenues: $84,732 million\\n- Operating expenses: $56,571 million\\n- Net income: $40,269 million\\n\\n**5. What was the effect of Covid in the 2020 financial year?**\\n\\nThe adverse effect of COVID-19 on 2020 advertising revenues contributed to the year-over-year growth in revenues in 2021.\\n\\n**6. What are the total revenues for APAC and USA for 2021?**\\n\\nThe provided text does not contain information on the total revenues for APAC and USA for 2021.\\n\\n**7. What is deferred income taxes?**\\n\\nThe provided text does not contain any information on deferred income taxes.\\n\\n**8. How do you compute net income per share?**\\n\\nNet income per share is calculated by dividing the net income by the number of outstanding shares.\\n\\n**9. What drove percentage change in the consolidated revenue and cost of revenue for the year 2021 and was there any effect of Covid?**\\n\\n- Consolidated revenue increased by 41% in 2021, primarily driven by Google Services and Google Cloud. The adverse effect of COVID-19 on 2020 advertising revenues also contributed to the year-over-year growth.\\n- Cost of revenues increased by 31% in 2021, primarily driven by increases in TAC and content acquisition costs.\\n\\n**10. What is the cause of 41% increase in revenue from 2020 to 2021 and how much is dollar change?**\\n\\nThe 41% increase in revenue from 2020 to 2021 was primarily driven by Google Services and Google Cloud. The dollar change in revenue was $75,110 million.' response_metadata={'is_blocked': False, 'safety_ratings': [{'category': 'HARM_CATEGORY_HATE_SPEECH', 'probability_label': 'NEGLIGIBLE', 'blocked': False}, {'category': 'HARM_CATEGORY_DANGEROUS_CONTENT', 'probability_label': 'NEGLIGIBLE', 'blocked': False}, {'category': 'HARM_CATEGORY_HARASSMENT', 'probability_label': 'NEGLIGIBLE', 'blocked': False}, {'category': 'HARM_CATEGORY_SEXUALLY_EXPLICIT', 'probability_label': 'NEGLIGIBLE', 'blocked': False}], 'citation_metadata': {'citations': [{'start_index': 1663, 'end_index': 1820, 'uri': 'https://www.valuethemarkets.com/analysis/is-google-still-a-good-investment', 'title': '', 'license_': ''}]}, 'usage_metadata': {'prompt_token_count': 2556, 'candidates_token_count': 549, 'total_token_count': 3105}} id='run-6e79ba38-7ed1-4ca5-8f47-02027dd5d69a-0' usage_metadata={'input_tokens': 2556, 'output_tokens': 549, 'total_tokens': 3105}\n"
     ]
    },
    {
     "data": {
      "text/markdown": [
       "**1. What are the critical difference between various graphs for Class A Share?**\n",
       "\n",
       "The provided text does not contain any information on the critical differences between various graphs for Class A shares.\n",
       "\n",
       "**2. Which index best matches Class A share performance closely where Google is not already a part? Explain the reasoning.**\n",
       "\n",
       "The provided text does not contain any information on which index best matches Class A share performance closely where Google is not already a part.\n",
       "\n",
       "**3. Identify key chart patterns for Google Class A shares.**\n",
       "\n",
       "The provided text does not contain any information on key chart patterns for Google Class A shares.\n",
       "\n",
       "**4. What is cost of revenues, operating expenses and net income for 2020. Do mention the percentage change**\n",
       "\n",
       "- Cost of revenues: $84,732 million\n",
       "- Operating expenses: $56,571 million\n",
       "- Net income: $40,269 million\n",
       "\n",
       "**5. What was the effect of Covid in the 2020 financial year?**\n",
       "\n",
       "The adverse effect of COVID-19 on 2020 advertising revenues contributed to the year-over-year growth in revenues in 2021.\n",
       "\n",
       "**6. What are the total revenues for APAC and USA for 2021?**\n",
       "\n",
       "The provided text does not contain information on the total revenues for APAC and USA for 2021.\n",
       "\n",
       "**7. What is deferred income taxes?**\n",
       "\n",
       "The provided text does not contain any information on deferred income taxes.\n",
       "\n",
       "**8. How do you compute net income per share?**\n",
       "\n",
       "Net income per share is calculated by dividing the net income by the number of outstanding shares.\n",
       "\n",
       "**9. What drove percentage change in the consolidated revenue and cost of revenue for the year 2021 and was there any effect of Covid?**\n",
       "\n",
       "- Consolidated revenue increased by 41% in 2021, primarily driven by Google Services and Google Cloud. The adverse effect of COVID-19 on 2020 advertising revenues also contributed to the year-over-year growth.\n",
       "- Cost of revenues increased by 31% in 2021, primarily driven by increases in TAC and content acquisition costs.\n",
       "\n",
       "**10. What is the cause of 41% increase in revenue from 2020 to 2021 and how much is dollar change?**\n",
       "\n",
       "The 41% increase in revenue from 2020 to 2021 was primarily driven by Google Services and Google Cloud. The dollar change in revenue was $75,110 million."
      ],
      "text/plain": [
       "<IPython.core.display.Markdown object>"
      ]
     },
     "execution_count": 71,
     "metadata": {},
     "output_type": "execute_result"
    }
   ],
   "source": [
    "# Get generative responses\n",
    "\n",
    "result = chain_multimodal_rag.invoke(query)\n",
    "\n",
    "Markdown(result)"
   ]
  },
  {
   "cell_type": "code",
   "execution_count": null,
   "metadata": {},
   "outputs": [],
   "source": []
  },
  {
   "cell_type": "code",
   "execution_count": null,
   "metadata": {},
   "outputs": [],
   "source": []
  }
 ],
 "metadata": {
  "kernelspec": {
   "display_name": "Python 3",
   "language": "python",
   "name": "python3"
  },
  "language_info": {
   "codemirror_mode": {
    "name": "ipython",
    "version": 3
   },
   "file_extension": ".py",
   "mimetype": "text/x-python",
   "name": "python",
   "nbconvert_exporter": "python",
   "pygments_lexer": "ipython3",
   "version": "3.10.12"
  }
 },
 "nbformat": 4,
 "nbformat_minor": 2
}
